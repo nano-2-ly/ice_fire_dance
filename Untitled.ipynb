{
 "cells": [
  {
   "cell_type": "code",
   "execution_count": 1,
   "metadata": {
    "scrolled": true
   },
   "outputs": [
    {
     "name": "stdout",
     "output_type": "stream",
     "text": [
      "[ 0  0 -1  0  0  0  0 -1  0  0  0  0  0  0  0  0  0  0  0  0  0  0 -1  0\n",
      "  0  0  0  0  0  0  0  0  1  0 -1  0  0  0  0  0  0  0  0  0  0  0  0  0\n",
      "  0  0  0  0  0  0 -1  0  0  0  0  0  0  0  0  0  0  0  0  0  1  0  0  0\n",
      "  0  0  0  0  1  0  0  0  1  1  0  0  0 -1  1  1  0  0  0  0  0  0  0  1\n",
      "  0  0  0  1  0  0  0  0  0 -1  0  0  0  0  0  0  0  0  0  0 -1 -1 -1  0\n",
      "  0  0  0 -1  0  0  0  0  0  0  0  0  0  1  0  1  0  0  0  0  0  0  1 -1\n",
      "  0  1 -1  0  0  0  0  0  0  0 -1  0  0  0 -1  0 -1  0  0  0  0  0 -1  0\n",
      "  0  0  0  0  0 -1  0  0  0  0  0  0  0  0 -1 -1  0  0  0  0  0  1  0  0\n",
      "  0  0  0 -1  0  0  0  0  0  0  0  0  0  1  0  1  0  0  1 -1  1  0  0  0\n",
      " -1 -1  0  0  0 -1  0 -1  0  0  0 -1  0  0  0  0  1  0  0  0  0  0  0  1\n",
      "  0  1  0  0  0  0  0  0  1  0  0  0  1  1  0  0  0  0  0  0  0  0 -1  1\n",
      "  0  0  0  0  0  0  0  1  0  0 -1  0  0  0 -1 -1  0  0  1  0 -1  0  0  0\n",
      "  0  0  0 -1 -1  0  0 -1  1  0  1  0  0  0  0  0  0  1  0  0  0 -1  0  0\n",
      "  0  0  0  1 -1  0  0  0  0  0  0  0  0  0  1  0  0  0  0  0  0 -1  0  0\n",
      " -1  0  0 -1  0  0  0  0  0  0  0  0  1  0  0 -1  1  0  0 -1 -1  0  0  0\n",
      "  1 -1  0  0  0 -1  1  0  0  0  1 -1  0  0  0  0  0  0  0  0  0  0  0 -1\n",
      "  0  0  0  0  0  0  0  0  0  0  1 -1  0  0 -1  1  0  0  0  0  0  0  0  0\n",
      "  0  0  0  0  0  0 -1  0  0  0  0  0  0  0 -1  0  0  0 -1  0  0 -1 -1  0\n",
      "  0  0  0  0  1  1 -1  0 -1  0  0  0  0  0  0  0  0  1  0  0  0  0 -1  1\n",
      "  0  0  1  0  0  0  0  0  1  1  0  0  0  0  0 -1  0 -1  1  0  1  0  0  1\n",
      "  0  0  1  0  0  0  1 -1 -1  1  0  0  0 -1  0  0  1  0  0  0  0  0  0 -1\n",
      "  0  0  0 -1  0  0  1  1 -1  0  0  0  0  0  0  0  0  0 -1  1  0  0  1  0\n",
      "  0  0  0  1 -1  0  0  0  0 -1  1  0  0 -1  0  0  0  0  0 -1  0 -1  1  0\n",
      "  0  1  0  0  0  0  0  0  0  0 -1  0  0  0  1  0  1  0  0  0  0 -1  0  0\n",
      "  1  1  0  0  0 -1 -1  0  0  0 -1  0  0  1  0  1  0  0  1  0  0  1  0  0\n",
      "  0  0  0  0  0  0  0  0  0 -1  1  0  0  0  0  0  0  0  0  0  0 -1  0 -1\n",
      "  0  0  0  0  0 -1  0  0  0  1  0  0  0  0  0  0  0  0  0 -1  1  1 -1  0\n",
      "  0  0  0  0  0  0  0  0  0  0  0  0 -1  0  0  0  0  0  0  0  0 -1  0  0\n",
      "  0  0 -1  0 -1  0  0  0  0  0 -1  0  0 -1  0  0  0  1  0  0  0  0  0  0\n",
      "  1  0  0  0  0  0  1  0  0  0  1  1  0  0  0  0  0  0  0  0  1  1  1  0\n",
      "  0 -1  0  0  0 -1 -1  0  0  0  0  0  0  0  0  0  0  0  0  0  0  0  0  0\n",
      "  0  0  0  0  1  1  1  0 -1  0  0  0  0  0  0  1 -1 -1  0  0  0  0  0  1\n",
      "  0 -1  0  0  0  0  0  0  0  0 -1  0  0  0  0  1  0  0  0  0  0 -1  1  1\n",
      "  0  0  0  0  1  0  0  0  0  0  0  0  0  0  0  0  0  1  0  0  0  0  0  0\n",
      "  1  0  0  0  0  0  0  0  0  0  1  0 -1  0  0  0  0 -1  0  0  0  0  0  0\n",
      " -1  0  0 -1  0  0  0 -1  1  0  0  0  0  0  0  0  0  0  0  0  0  0 -1  0\n",
      " -1  0  0  0  0  0  0  0  0  0  1  0  0  0  0  0  0  0  0  0  0  0  1  0\n",
      "  0  0  0  0  0  0  0  0 -1  0  0  1  0  0  0  0  0  0  0  1  0  0  0  0\n",
      "  0  0 -1  0  1  0  0  0  0  0  0  0  0 -1  0  0  0  0  0  0  0  0  1  0\n",
      " -1  0  1  0  0 -1  0  0  0  0 -1  0  0  0  0  1  0  0  0  0  0  0  0  0\n",
      " -1  0  0  0  0  0  0  0  0  0  1  0  0  0  0  0  1  0  0  1  0  1 -1  0\n",
      "  0  0  0  0  0  0  0 -1  0 -1 -1  0  0  0  0  0  0  0  0  0  0 -1  0 -1\n",
      "  0  0  0  0  0  0 -1  0  0  0  0  0  0  0  0  0  0  0  0  0  0  0  0  0\n",
      "  1  1  0 -1  0  0  0  0  0  0  0  0  0  0  0  0  0  0  0  0  1  0  0  0\n",
      "  0  0  1  0  0  0  0  0  0  0 -1 -1  0  0  0  0  0 -1 -1  0  0  0 -1  1\n",
      "  0  0 -1  0  0  0  0  0  0  0  0  0  0  0  0  0  0  0  0  1  0  0 -1  0\n",
      "  0  0  0  0  0  1  0  0 -1 -1  0  0  0  0 -1  0  0  0  0  0  1  0  0  1\n",
      "  0  1  0  0  0  0  0  0 -1  0  0  0  0  0  0  1  0  0  0  0  0  0 -1 -1\n",
      "  0 -1  0  0  0  0  0  0  0  0  0  0  0  0  0  0 -1  0  0  0  0  1  0  0\n",
      "  0  0  0  0  0  0  0  0 -1  1 -1  0  0  0  0  0  0  0  0  1  0  1  0  0\n",
      "  0  1 -1  0  0  0  0  0  0  0  0  0  0 -1  0  0  0  0  1  1  0  1  0  0\n",
      "  0  0  0  0  0  0  0  0 -1 -1 -1 -1  0  0  0  0  0 -1  0  0  0  0  0 -1\n",
      "  0 -1  0  1  0  0  1  0  0 -1  0 -1  0  0  0 -1  0  1 -1  0  0  0  0 -1\n",
      "  0  1  0 -1  1  1  0  1 -1  0  0  1  0  0 -1  1  0  0  1  0  0  0  0  1\n",
      "  0  0  0  0  1  0 -1  0 -1  0  1  0  1 -1  0  1  0  0  0  0  0 -1  0  0\n",
      "  0  0  0  0  0  0  0  0 -1  0  1  0  1  0 -1  0  0  1  0  0  0  0  0  0\n",
      " -1  0 -1  0  0  0  0  0  0  0  1  0  1  0  0  0  0  0 -1  0  0  0  0  0\n",
      " -1  0  0  0  0  0  0  1  0  0  0  0  1  0  0  0  0  0  0  0  0  0 -1  0\n",
      "  1  0  0  0  0  0  0  0  0  0  0  0  0  0  0  0 -1  1  0  0  0 -1  0  0\n",
      "  0  1  0  0  0 -1  0  0  0  0  1  1  0  1  0  0 -1  0 -1  0  0  0  0  0\n",
      "  0  0  0  0  0  0  0  0  1  0  0  0  0  0  0  0  0  0  0  0  0  0  0  0\n",
      "  0  0  0  1  0  0  0  1  0  0  0  0  0  0  0  0  1  1  0  0  1  0  0  0\n",
      "  0  0  1  0  0 -1  1  0 -1 -1  0  0  0  0  0  1  0  1  0  0  0  1  0 -1\n",
      "  0 -1  0  0 -1  0  0  0 -1  0  0  0  0  0  0  0  0  1 -1  0  0  0  0 -1\n",
      "  0  0  0  0  0  1  0  0  0  0  0  0  0  0  1  1  0  0  0  0  0  0  0  0\n",
      "  0  1  0 -1  0  0  0  0  0  0  0  0  0  0  1  0  1  1  1  0  0  0  0  0\n",
      "  0  0  0  0  0  0  0 -1  0  0  0 -1  0 -1  0  0  0  0  0  0  0 -1  1  0\n",
      "  1  0  0  0  0  1  1  0 -1  0  1 -1  0  0  0  0  0  0  0  0  0  0  0  0\n",
      "  0  1 -1  0  0  0  0  0  0  0 -1  0 -1  0  0  0  0  0 -1  0  1  0  0  0\n",
      "  1  0  0  0  0  0  0  0  0  0  0  0  0  0  0  1  0  1  0 -1 -1 -1  0  0\n",
      "  0  0  0  0  0 -1  0  0  1 -1  0  1  0  0  0  0  0  0  0 -1  0  0  0  0\n",
      "  0  0  0  0  0  0  0  0  0  0  0  0  0  0  0  0  0  1  0  1  0  0  0  1\n",
      "  0  0 -1  1  0 -1  0  0 -1  0  0  0  0 -1  0  0  0  0  1  0  0  0  1  0\n",
      "  0  1 -1  0  0  0  0  0  0 -1  0  1  0  0  0  1 -1  0  0  0 -1  0  0  0\n",
      " -1  0  1  0 -1  0  0 -1 -1  0  0  0  0 -1 -1 -1  0  0  0  0  0  0  0  0\n",
      "  0  1  0 -1  0  1  0  1  0  0  0 -1  0  0  0  0  0  0 -1  1  0  0  0  0\n",
      "  1  0  0  0 -1  0  1  0  0  0  0  0  0  0  0  0  0 -1  1 -1  0  1  0  0\n",
      "  0  0  0  0  0  0  0  0  0  0  0  0  0  1  0  0  0  0 -1  1  0  0  0  0\n",
      "  0  0  0  0  0  0  0  0 -1  0  0  0 -1  0  0  1  1  0  0  0  0 -1  0  1\n",
      "  0 -1  0  0  0  0 -1  0  0  0  0  0 -1 -1  0  0  0  0  1  0  0  0  0 -1\n",
      "  0  0  0  0  0  0  0  0  1  0 -1  0  0 -1  0  0  0  0  0  0  0  0  0  0\n",
      "  0  1  0  0  0  0 -1 -1  0 -1  0  0  0 -1  0  0  0  0  1  1 -1  0  0 -1\n",
      " -1  0  0 -1  0  0 -1  0  0 -1  1 -1  0  0 -1  0  0  0  0  0  0  0  1  0\n",
      "  0 -1  1  1  0  0  0  0  0  0  0  0  0  1  0  0  0  0  0  0 -1  0  0 -1\n",
      "  0  0  1  0  0  1  0  0  0  1  0  0  0  0  0  0  1 -1  0  0  0  1  0 -1\n",
      "  0  0  0  0  0 -1  0  0]\n"
     ]
    },
    {
     "name": "stderr",
     "output_type": "stream",
     "text": [
      "C:\\Users\\DEKIM\\Anaconda3\\lib\\site-packages\\ipykernel_launcher.py:25: DeprecationWarning: The binary mode of fromstring is deprecated, as it behaves surprisingly on unicode inputs. Use frombuffer instead\n"
     ]
    },
    {
     "data": {
      "text/plain": [
       "<matplotlib.figure.Figure at 0x2737286c080>"
      ]
     },
     "metadata": {},
     "output_type": "display_data"
    }
   ],
   "source": [
    "import pyaudio\n",
    "import wave\n",
    "import numpy as np\n",
    "import librosa\n",
    "import librosa.display\n",
    "import matplotlib.pyplot as plt\n",
    "\n",
    "np.set_printoptions(threshold=np.nan)\n",
    "CHUNK = 1024\n",
    "FORMAT = pyaudio.paInt16\n",
    "CHANNELS = 2\n",
    "RATE = 44100\n",
    "RECORD_SECONDS = 5\n",
    "WAVE_OUTPUT_FILENAME = \"output.wav\"\n",
    "\n",
    "p = pyaudio.PyAudio()\n",
    "\n",
    "stream = p.open(format=FORMAT,\n",
    "                channels=CHANNELS,\n",
    "                rate=RATE,\n",
    "                input=True,\n",
    "                frames_per_buffer=CHUNK)\n",
    "\n",
    "data = stream.read(CHUNK)\n",
    "audio_data = np.fromstring(data, np.int16)\n",
    "print(audio_data)\n",
    "\n",
    "stream.stop_stream()\n",
    "stream.close()\n",
    "p.terminate()\n",
    "\n",
    "plt.plot(audio_data)\n",
    "plt.show()"
   ]
  },
  {
   "cell_type": "code",
   "execution_count": null,
   "metadata": {
    "scrolled": true
   },
   "outputs": [],
   "source": [
    "import sounddevice as sd\n",
    "import numpy as np\n",
    "from pynput.keyboard import Key, Controller\n",
    "#import time\n",
    "\n",
    "keyboard = Controller()\n",
    "fs = 44100                               \n",
    "duration = 5 # seconds\n",
    "while(1): \n",
    "    myrecording = sd.rec(4410 , samplerate=fs, channels=1, dtype='float64')\n",
    "    # I would like to read myrecording into a stream at this point. \n",
    "    #print(\"Recording Audio\")\n",
    "    sd.wait()\n",
    "    #print(\"Audio recording complete , Play Audio\")\n",
    "    #print(myrecording)\n",
    "    keyboard.press(Key.down)\n",
    "    \n",
    "    for i in myrecording:\n",
    "        if i>0.05:\n",
    "            #print(\"!\")\n",
    "            keyboard.press(Key.space)\n",
    "            #time.sleep(1)\n",
    "            keyboard.release(Key.space)\n",
    "            break               \n",
    "plt.plot(myrecording)\n",
    "plt.show() "
   ]
  },
  {
   "cell_type": "code",
   "execution_count": null,
   "metadata": {},
   "outputs": [],
   "source": [
    " "
   ]
  },
  {
   "cell_type": "raw",
   "metadata": {},
   "source": [
    "  from pynput.keyboard import Key, Controller\n",
    "keyboard = Controller()\n",
    "keyboard.press('a')\n",
    "keyboard.release('a')"
   ]
  },
  {
   "cell_type": "code",
   "execution_count": 1,
   "metadata": {},
   "outputs": [],
   "source": [
    "from pynput.keyboard import Key, Controller\n",
    "keyboard = Controller()\n",
    "for _ in range(10):\n",
    "    keyboard.press(Key.space)\n",
    " "
   ]
  }
 ],
 "metadata": {
  "kernelspec": {
   "display_name": "Python 3",
   "language": "python",
   "name": "python3"
  }
 },
 "nbformat": 4,
 "nbformat_minor": 2
}
