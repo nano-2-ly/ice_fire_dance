{
 "cells": [
  {
   "cell_type": "code",
   "execution_count": 42,
   "metadata": {
    "scrolled": true
   },
   "outputs": [
    {
     "name": "stdout",
     "output_type": "stream",
     "text": [
      "[1.39064994e-309             nan 0.00000000e+000 0.00000000e+000\n",
      " 0.00000000e+000 1.39064994e-309 0.00000000e+000 0.00000000e+000\n",
      " 1.39064994e-309 0.00000000e+000 0.00000000e+000 0.00000000e+000\n",
      " 0.00000000e+000 1.39064994e-309 0.00000000e+000 0.00000000e+000\n",
      " 0.00000000e+000 4.94065646e-324 0.00000000e+000 4.94065646e-324\n",
      " 3.23795802e-319 1.39071360e-309 0.00000000e+000 1.39067116e-309\n",
      " 1.39067116e-309 0.00000000e+000 2.12196341e-314 0.00000000e+000\n",
      " 0.00000000e+000 1.39067116e-309             nan 0.00000000e+000\n",
      " 0.00000000e+000 1.39067116e-309 0.00000000e+000             nan\n",
      " 1.39064994e-309 0.00000000e+000 1.39064994e-309 1.39064994e-309\n",
      " 3.23785921e-319 1.39064994e-309 0.00000000e+000 2.12196341e-314\n",
      " 0.00000000e+000             nan 0.00000000e+000 3.23790862e-319\n",
      "             nan 0.00000000e+000 0.00000000e+000 1.39067116e-309\n",
      "             nan 4.94065646e-324 2.12199579e-314             nan\n",
      "             nan 0.00000000e+000 4.94065646e-324 1.39067116e-309\n",
      " 3.23790862e-319 0.00000000e+000 4.94065646e-324 3.23795802e-319\n",
      " 0.00000000e+000 2.78132110e-309 0.00000000e+000 1.39067116e-309\n",
      " 1.39064994e-309             nan 2.12199579e-314 3.23785921e-319\n",
      "             nan             nan 2.12199579e-314 0.00000000e+000\n",
      " 3.23790862e-319 2.12196341e-314 1.39067116e-309 3.23785921e-319\n",
      " 0.00000000e+000 2.12199579e-314 0.00000000e+000 2.12196341e-314\n",
      "             nan 0.00000000e+000 0.00000000e+000             nan\n",
      "             nan 3.23785921e-319 2.12196341e-314 4.24395920e-314\n",
      "             nan 0.00000000e+000 0.00000000e+000             nan\n",
      " 0.00000000e+000 0.00000000e+000             nan 2.78132110e-309\n",
      " 0.00000000e+000 0.00000000e+000 0.00000000e+000 1.39064994e-309\n",
      " 0.00000000e+000 1.39064994e-309 1.39064994e-309 1.39067116e-309\n",
      " 0.00000000e+000 1.39064994e-309 3.23785921e-319 0.00000000e+000\n",
      " 3.23790862e-319 2.78132110e-309 2.12199579e-314 0.00000000e+000\n",
      " 3.23795802e-319             nan 4.24395920e-314 1.39067116e-309\n",
      " 2.12199579e-314             nan 6.47576783e-319 2.12196341e-314\n",
      " 4.94065646e-324             nan             nan 1.39069238e-309\n",
      " 3.23785921e-319 0.00000000e+000 2.78132110e-309 2.12199579e-314\n",
      " 1.39067116e-309 3.23785921e-319 4.24395920e-314 2.12196341e-314\n",
      "             nan 4.24395920e-314 3.23790862e-319 0.00000000e+000\n",
      " 1.39064994e-309 2.12199579e-314 4.94065646e-324 2.12196341e-314\n",
      " 3.23795802e-319 1.39067116e-309 1.39064994e-309 1.39067116e-309\n",
      " 2.12199579e-314 3.23790862e-319 0.00000000e+000 0.00000000e+000\n",
      " 4.24395920e-314 0.00000000e+000 0.00000000e+000             nan\n",
      " 0.00000000e+000 2.12196341e-314 3.23790862e-319 0.00000000e+000\n",
      "             nan 1.39064994e-309 0.00000000e+000 0.00000000e+000\n",
      " 0.00000000e+000 3.23785921e-319 0.00000000e+000 2.12196341e-314\n",
      " 1.39064994e-309 3.23785921e-319 1.39064994e-309 2.12196341e-314\n",
      " 3.23790862e-319 0.00000000e+000 4.94065646e-324 2.12199579e-314\n",
      " 1.39069238e-309 0.00000000e+000 0.00000000e+000 2.12202817e-314\n",
      " 2.12196341e-314 1.39067116e-309 0.00000000e+000 0.00000000e+000\n",
      " 0.00000000e+000 0.00000000e+000 0.00000000e+000 2.12202817e-314\n",
      " 3.23785921e-319 1.39067116e-309 2.12199579e-314 1.39067116e-309\n",
      " 2.12196341e-314 0.00000000e+000 1.39064994e-309 1.39067116e-309\n",
      " 0.00000000e+000 1.39071360e-309 0.00000000e+000 4.94065646e-324\n",
      " 0.00000000e+000 0.00000000e+000 3.23790862e-319 0.00000000e+000\n",
      " 4.94065646e-324 0.00000000e+000 2.12199579e-314 3.23785921e-319\n",
      " 2.12196341e-314 0.00000000e+000             nan             nan\n",
      " 4.94065646e-324 0.00000000e+000 0.00000000e+000 1.39064994e-309\n",
      " 3.23785921e-319 0.00000000e+000 2.12199579e-314 0.00000000e+000\n",
      " 0.00000000e+000 2.12199579e-314 0.00000000e+000 0.00000000e+000\n",
      " 1.39067116e-309 0.00000000e+000 1.39067116e-309 0.00000000e+000\n",
      " 1.39064994e-309 4.94065646e-324 0.00000000e+000 2.12196341e-314\n",
      " 0.00000000e+000 2.12199579e-314 2.12202817e-314 2.12196341e-314\n",
      " 1.39064994e-309 1.39067116e-309 0.00000000e+000 0.00000000e+000\n",
      " 3.23785921e-319 0.00000000e+000 2.12199579e-314 0.00000000e+000\n",
      " 1.39067116e-309 1.39064994e-309 0.00000000e+000             nan\n",
      " 1.39067116e-309 0.00000000e+000 0.00000000e+000             nan\n",
      " 0.00000000e+000 1.39064994e-309 0.00000000e+000 0.00000000e+000\n",
      " 0.00000000e+000 0.00000000e+000             nan 0.00000000e+000\n",
      " 0.00000000e+000 0.00000000e+000 0.00000000e+000 4.94065646e-324\n",
      " 2.12199579e-314 0.00000000e+000             nan 0.00000000e+000\n",
      " 1.39067116e-309 2.78132110e-309 1.39064994e-309 0.00000000e+000\n",
      " 0.00000000e+000 0.00000000e+000 1.39067116e-309 1.39064994e-309\n",
      " 0.00000000e+000 3.23790862e-319 2.12199579e-314 1.39064994e-309\n",
      " 0.00000000e+000 1.39067116e-309 3.23790862e-319 0.00000000e+000\n",
      " 3.23785921e-319 1.39067116e-309 0.00000000e+000             nan\n",
      " 2.12196341e-314 0.00000000e+000 0.00000000e+000 0.00000000e+000\n",
      " 3.23785921e-319 3.23790862e-319 0.00000000e+000 0.00000000e+000\n",
      " 1.39064994e-309 0.00000000e+000 1.39067116e-309 3.23790862e-319\n",
      " 1.39064994e-309 0.00000000e+000 0.00000000e+000 2.12196341e-314\n",
      " 1.39069238e-309 3.23790862e-319 0.00000000e+000 0.00000000e+000\n",
      "             nan 0.00000000e+000 2.12196341e-314             nan\n",
      " 1.39069238e-309 2.12199579e-314             nan             nan\n",
      " 1.39064994e-309             nan             nan 1.39067116e-309\n",
      " 1.39067116e-309 2.78132110e-309 2.12199579e-314 1.39067116e-309\n",
      " 0.00000000e+000 1.39064994e-309 2.12202817e-314 1.39069238e-309\n",
      " 0.00000000e+000 2.12196341e-314 0.00000000e+000 0.00000000e+000\n",
      " 2.12202817e-314 1.39064994e-309 3.23790862e-319 0.00000000e+000\n",
      " 1.39064994e-309 0.00000000e+000 2.12199579e-314 4.94065646e-324\n",
      " 1.39064994e-309 0.00000000e+000 3.23785921e-319 1.39067116e-309\n",
      " 0.00000000e+000 4.94065646e-324 0.00000000e+000 1.39064994e-309\n",
      " 4.94065646e-324 0.00000000e+000 0.00000000e+000 0.00000000e+000\n",
      " 6.47576783e-319 2.12196341e-314 3.23790862e-319 2.12196341e-314\n",
      " 1.39069238e-309 3.23790862e-319 1.39064994e-309 0.00000000e+000\n",
      " 0.00000000e+000 0.00000000e+000 4.94065646e-324 0.00000000e+000\n",
      " 0.00000000e+000 0.00000000e+000 1.39067116e-309 1.39067116e-309\n",
      " 0.00000000e+000 0.00000000e+000 3.23795802e-319 4.94065646e-324\n",
      " 2.12199579e-314 4.24395920e-314 2.12199579e-314 1.39067116e-309\n",
      " 3.23790862e-319             nan 2.12196341e-314 3.23785921e-319\n",
      " 3.23785921e-319 0.00000000e+000 1.39064994e-309             nan\n",
      " 0.00000000e+000 3.23790862e-319 0.00000000e+000 1.39069238e-309\n",
      " 0.00000000e+000 0.00000000e+000             nan 0.00000000e+000\n",
      " 0.00000000e+000 2.12199579e-314 2.12202817e-314 0.00000000e+000\n",
      " 0.00000000e+000             nan             nan 2.12196341e-314\n",
      " 0.00000000e+000 4.24395920e-314 4.94065646e-324 2.12202817e-314\n",
      "             nan 0.00000000e+000 0.00000000e+000 0.00000000e+000\n",
      " 1.39064994e-309 0.00000000e+000 1.39064994e-309 3.23785921e-319\n",
      " 1.39064994e-309 4.94065646e-324 4.94065646e-324 0.00000000e+000\n",
      " 0.00000000e+000 1.39067116e-309             nan 2.12199579e-314\n",
      " 0.00000000e+000 2.12196341e-314 1.39069238e-309 0.00000000e+000\n",
      "             nan 0.00000000e+000 0.00000000e+000 0.00000000e+000\n",
      " 0.00000000e+000 0.00000000e+000 1.39067116e-309 1.39067116e-309\n",
      " 2.78132110e-309 2.12196341e-314 3.23785921e-319 2.12196341e-314\n",
      " 2.12199579e-314 2.12199579e-314 1.39064994e-309 0.00000000e+000\n",
      " 1.39069238e-309 1.39067116e-309 3.23785921e-319 3.23785921e-319\n",
      " 2.12202817e-314             nan 3.23785921e-319             nan\n",
      " 0.00000000e+000 0.00000000e+000             nan 1.39067116e-309\n",
      "             nan 0.00000000e+000 2.78132110e-309 0.00000000e+000\n",
      " 4.94065646e-324 2.12202817e-314 0.00000000e+000 0.00000000e+000\n",
      "             nan 3.23790862e-319 0.00000000e+000 0.00000000e+000\n",
      " 0.00000000e+000 3.23790862e-319 2.78132110e-309 0.00000000e+000\n",
      " 0.00000000e+000 0.00000000e+000 3.23785921e-319 1.39067116e-309\n",
      " 4.94065646e-324 1.39069238e-309 2.12196341e-314 1.39064994e-309\n",
      " 0.00000000e+000 2.12199579e-314 2.12199579e-314             nan\n",
      " 0.00000000e+000 0.00000000e+000 1.39064994e-309 2.12196341e-314\n",
      " 0.00000000e+000 0.00000000e+000 3.23790862e-319             nan\n",
      " 2.12196341e-314 2.12196341e-314 1.39069238e-309             nan\n",
      "             nan 1.39064994e-309             nan 1.39064994e-309\n",
      " 0.00000000e+000 2.12199579e-314 1.39071360e-309 0.00000000e+000\n",
      " 0.00000000e+000 3.23790862e-319 0.00000000e+000             nan\n",
      " 2.12199579e-314 3.23790862e-319 3.23790862e-319 0.00000000e+000\n",
      " 2.12196341e-314             nan 0.00000000e+000 2.12196341e-314]\n"
     ]
    },
    {
     "name": "stderr",
     "output_type": "stream",
     "text": [
      "C:\\Users\\DEKIM\\Anaconda3\\lib\\site-packages\\ipykernel_launcher.py:25: DeprecationWarning: The binary mode of fromstring is deprecated, as it behaves surprisingly on unicode inputs. Use frombuffer instead\n"
     ]
    },
    {
     "data": {
      "image/png": "[encoded data removed]",
      "text/plain": [
       "<matplotlib.figure.Figure at 0x1eba992c0b8>"
      ]
     },
     "metadata": {},
     "output_type": "display_data"
    }
   ],
   "source": [
    "import pyaudio\n",
    "import wave\n",
    "import numpy as np\n",
    "import librosa\n",
    "import librosa.display\n",
    "import matplotlib.pyplot as plt\n",
    "\n",
    "np.set_printoptions(threshold=np.nan)\n",
    "CHUNK = 1024\n",
    "FORMAT = pyaudio.paInt16\n",
    "CHANNELS = 2\n",
    "RATE = 44100\n",
    "RECORD_SECONDS = 5\n",
    "WAVE_OUTPUT_FILENAME = \"output.wav\"\n",
    "\n",
    "p = pyaudio.PyAudio()\n",
    "\n",
    "stream = p.open(format=FORMAT,\n",
    "                channels=CHANNELS,\n",
    "                rate=RATE,\n",
    "                input=True,\n",
    "                frames_per_buffer=CHUNK)\n",
    "\n",
    "data = stream.read(CHUNK)\n",
    "audio_data = np.fromstring(data, np.float)\n",
    "print(audio_data)\n",
    "\n",
    "stream.stop_stream()\n",
    "stream.close()\n",
    "p.terminate()\n",
    "\n",
    "plt.plot(audio_data)\n",
    "plt.show()"
   ]
  },
  {
   "cell_type": "code",
   "execution_count": 35,
   "metadata": {},
   "outputs": [
    {
     "data": {
      "image/png": "[encoded data removed]",
      "text/plain": [
       "<matplotlib.figure.Figure at 0x1eba967c780>"
      ]
     },
     "metadata": {},
     "output_type": "display_data"
    }
   ],
   "source": [
    "\n",
    "plt.plot(audio_data)\n",
    "plt.show()"
   ]
  },
  {
   "cell_type": "code",
   "execution_count": null,
   "metadata": {},
   "outputs": [],
   "source": []
  },
  {
   "cell_type": "raw",
   "metadata": {},
   "source": [
    "from pynput.keyboard import Key, Controller\n",
    "keyboard = Controller()\n",
    "keyboard.press('a')\n",
    "keyboard.release('a')"
   ]
  },
  {
   "cell_type": "code",
   "execution_count": 1,
   "metadata": {},
   "outputs": [],
   "source": [
    "from pynput.keyboard import Key, Controller\n",
    "keyboard = Controller()\n",
    "for _ in range(10):\n",
    "    keyboard.press(Key.space)\n",
    " "
   ]
  }
 ],
 "metadata": {
  "kernelspec": {
   "display_name": "Python 3",
   "language": "python",
   "name": "python3"
  },
  "language_info": {
   "codemirror_mode": {
    "name": "ipython",
    "version": 3
   },
   "file_extension": ".py",
   "mimetype": "text/x-python",
   "name": "python",
   "nbconvert_exporter": "python",
   "pygments_lexer": "ipython3",
   "version": "3.6.4"
  }
 },
 "nbformat": 4,
 "nbformat_minor": 2
}
